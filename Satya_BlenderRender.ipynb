{
  "nbformat": 4,
  "nbformat_minor": 0,
  "metadata": {
    "colab": {
      "name": "Satya BlenderRender.ipynb",
      "provenance": [],
      "collapsed_sections": [],
      "toc_visible": true,
      "include_colab_link": true
    },
    "kernelspec": {
      "name": "python3",
      "display_name": "Python 3"
    },
    "accelerator": "GPU"
  },
  "cells": [
    {
      "cell_type": "markdown",
      "metadata": {
        "id": "view-in-github",
        "colab_type": "text"
      },
      "source": [
        "<a href=\"https://colab.research.google.com/github/Shinora007/BlenderColab/blob/master/Satya_BlenderRender.ipynb\" target=\"_parent\"><img src=\"https://colab.research.google.com/assets/colab-badge.svg\" alt=\"Open In Colab\"/></a>"
      ]
    },
    {
      "cell_type": "markdown",
      "metadata": {
        "id": "IK9lYTykdbtt",
        "colab_type": "text"
      },
      "source": [
        "# Blender Render Script for Colab\n",
        "This is a script for rendering in blender using Google Collab\n",
        "\n",
        "## Steps\n",
        "- Make sure you have GPU enabled in your kernel (Also ensure that your blend file has GPU enabled)\n",
        "- Use wget to download your file into the kernel\n",
        "- In the blender command make sure that the correct filename is provided"
      ]
    },
    {
      "cell_type": "code",
      "metadata": {
        "id": "F5vZwPfYenN8",
        "colab_type": "code",
        "cellView": "both",
        "colab": {}
      },
      "source": [
        "#@title Blender Parameters\n",
        "download_file_path = 'https://s3-us-west-2.amazonaws.com/anique/blenderfiles/RiyoGudako.blend' #@param {type: \"string\"}\n",
        "filename = 'AbstractDesign_1' #@param {type: \"string\"}\n",
        "filename+= '.blend'\n",
        "renderer = \"CYCLES\" #@param [\"CYCLES\", \"Eevee\"]\n",
        "frame =   1#@param {type: \"number\"}\n",
        "blenderTar = 'blender-2.82a-linux64.tar.xz'\n"
      ],
      "execution_count": 0,
      "outputs": []
    },
    {
      "cell_type": "code",
      "metadata": {
        "id": "ywXJNQC6_w57",
        "colab_type": "code",
        "colab": {}
      },
      "source": [
        "import os\n",
        "\n",
        "os.environ[\"LD_PRELOAD\"] = \"\"\n",
        "\n",
        "!apt remove libtcmalloc-minimal4\n",
        "!apt install libtcmalloc-minimal4\n",
        "!apt install libboost-all-dev\n",
        "!apt install libgl1-mesa-dev\n",
        "\n",
        "os.environ[\"LD_PRELOAD\"] = \"/usr/lib/x86_64-linux-gnu/libtcmalloc_minimal.so.4.3.0\"\n",
        "# from IPython.display import Image\n",
        "# Image(filename='./test_0001.png')"
      ],
      "execution_count": 0,
      "outputs": []
    },
    {
      "cell_type": "code",
      "metadata": {
        "id": "AWqlF827VDpn",
        "colab_type": "code",
        "outputId": "9b87f77a-6e47-4300-e70e-6fafa8a6ae18",
        "colab": {
          "base_uri": "https://localhost:8080/",
          "height": 118
        }
      },
      "source": [
        "#!wget -O $filename $download_file_path\n",
        "from google.colab import drive\n",
        "drive.mount('/content/drive')\n"
      ],
      "execution_count": 0,
      "outputs": [
        {
          "output_type": "stream",
          "text": [
            "Go to this URL in a browser: https://accounts.google.com/o/oauth2/auth?client_id=947318989803-6bn6qk8qdgf4n4g3pfee6491hc0brc4i.apps.googleusercontent.com&redirect_uri=urn%3aietf%3awg%3aoauth%3a2.0%3aoob&response_type=code&scope=email%20https%3a%2f%2fwww.googleapis.com%2fauth%2fdocs.test%20https%3a%2f%2fwww.googleapis.com%2fauth%2fdrive%20https%3a%2f%2fwww.googleapis.com%2fauth%2fdrive.photos.readonly%20https%3a%2f%2fwww.googleapis.com%2fauth%2fpeopleapi.readonly\n",
            "\n",
            "Enter your authorization code:\n",
            "··········\n",
            "Mounted at /content/drive\n"
          ],
          "name": "stdout"
        }
      ]
    },
    {
      "cell_type": "code",
      "metadata": {
        "id": "T6KKTfMlEZlQ",
        "colab_type": "code",
        "colab": {}
      },
      "source": [
        "!cp -n \"./drive/My Drive/$blenderTar\" .\n",
        "!cp \"./drive/My Drive/enable_gpu.py\" .\n",
        "#!cp \"./drive/My Drive/$filename\" .\n",
        "!tar -xf ./$blenderTar"
      ],
      "execution_count": 0,
      "outputs": []
    },
    {
      "cell_type": "code",
      "metadata": {
        "id": "ccrONwcvgHjN",
        "colab_type": "code",
        "colab": {}
      },
      "source": [
        "!cp -n test_*.png \"./drive/My Drive/Rendered/\""
      ],
      "execution_count": 0,
      "outputs": []
    },
    {
      "cell_type": "code",
      "metadata": {
        "id": "jkEn_itGSi-b",
        "colab_type": "code",
        "colab": {}
      },
      "source": [
        "# !./blender2.82/blender -b $filename -noaudio -o ./test_ -E $renderer -x 1 -f $frame -P enable_gpu.py\n",
        "# !./blender-2.82a-linux64/blender -b $filename -noaudio -o ./test_ -x 1 -f $frame -P enable_gpu.py\n",
        "!./blender-2.82a-linux64/blender -b -P enable_gpu.py $filename -noaudio -o ./test _ -x 1 -f 1\n",
        "!cp -n test_*.png \"./drive/My Drive/Rendered/\""
      ],
      "execution_count": 0,
      "outputs": []
    },
    {
      "cell_type": "code",
      "metadata": {
        "id": "6ZXSvThJpSdF",
        "colab_type": "code",
        "colab": {}
      },
      "source": [
        "for i in range(120, 121):\n",
        "  !./blender-2.82a-linux64/blender -b -P enable_gpu.py $filename -noaudio -o ./test_ -x 1 -f $i\n",
        "  !cp -n test_*.png \"./drive/My Drive/Rendered/\""
      ],
      "execution_count": 0,
      "outputs": []
    }
  ]
}